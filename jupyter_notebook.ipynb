{
 "cells": [
  {
   "cell_type": "markdown",
   "metadata": {},
   "source": [
    "# Comparing Marketing Campaigns\n",
    "## Promotion Performance | A/B Testing\n",
    "\n",
    "**Author**: Miguel Santana\n",
    "\n",
    "Thank you for reviewing this repository. The author's contact info, blog, sources and social media profiles are listed below under **further information.**\n",
    "\n",
    "The contents of this repository detail an analysis of three marketing campaigns in a retail environment. A new item has been introduced in several markets. The markets were randomly selected and different promotions are used at each location. The results are tracked and then used to select the most effective marketing campaign. Our analysis will determine which promotion has the largest impact on sales performance and offer actionable insight. \n",
    "\n",
    "#### Project Framework | OSEMN\n",
    "\n",
    "**Data processing and analysis is completed using the OSEMN framework. The structure includes: Obtaining the data, Scrubbing (processing), Exploratory Data Analysis, Statistical Modeling and Interpretation of the Results.**\n",
    "\n",
    "#### The Data\n",
    "\n",
    "The project data is made available via Udemy course **Data Science & Deep Learning for Business**. A full Udemy source citation is available below under **sources.** \n",
    "\n",
    "#### Import Libraries"
   ]
  },
  {
   "cell_type": "code",
   "execution_count": 42,
   "metadata": {
    "ExecuteTime": {
     "end_time": "2021-02-05T18:10:32.761256Z",
     "start_time": "2021-02-05T18:10:32.756670Z"
    }
   },
   "outputs": [],
   "source": [
    "import pandas as pd\n",
    "import numpy as np\n",
    "import matplotlib.pyplot as plt\n",
    "%matplotlib inline\n",
    "import seaborn as sns\n",
    "sns.set_style('white')\n",
    "from scipy import stats"
   ]
  },
  {
   "cell_type": "markdown",
   "metadata": {},
   "source": [
    "# Import Data"
   ]
  },
  {
   "cell_type": "code",
   "execution_count": 2,
   "metadata": {
    "ExecuteTime": {
     "end_time": "2021-02-05T17:20:11.661312Z",
     "start_time": "2021-02-05T17:20:11.643389Z"
    }
   },
   "outputs": [
    {
     "name": "stdout",
     "output_type": "stream",
     "text": [
      "(548, 7)\n",
      "\n",
      "\n"
     ]
    },
    {
     "data": {
      "text/html": [
       "<div>\n",
       "<style scoped>\n",
       "    .dataframe tbody tr th:only-of-type {\n",
       "        vertical-align: middle;\n",
       "    }\n",
       "\n",
       "    .dataframe tbody tr th {\n",
       "        vertical-align: top;\n",
       "    }\n",
       "\n",
       "    .dataframe thead th {\n",
       "        text-align: right;\n",
       "    }\n",
       "</style>\n",
       "<table border=\"1\" class=\"dataframe\">\n",
       "  <thead>\n",
       "    <tr style=\"text-align: right;\">\n",
       "      <th></th>\n",
       "      <th>MarketID</th>\n",
       "      <th>MarketSize</th>\n",
       "      <th>LocationID</th>\n",
       "      <th>AgeOfStore</th>\n",
       "      <th>Promotion</th>\n",
       "      <th>week</th>\n",
       "      <th>SalesInThousands</th>\n",
       "    </tr>\n",
       "  </thead>\n",
       "  <tbody>\n",
       "    <tr>\n",
       "      <th>0</th>\n",
       "      <td>1</td>\n",
       "      <td>Medium</td>\n",
       "      <td>1</td>\n",
       "      <td>4</td>\n",
       "      <td>3</td>\n",
       "      <td>1</td>\n",
       "      <td>33.73</td>\n",
       "    </tr>\n",
       "    <tr>\n",
       "      <th>1</th>\n",
       "      <td>1</td>\n",
       "      <td>Medium</td>\n",
       "      <td>1</td>\n",
       "      <td>4</td>\n",
       "      <td>3</td>\n",
       "      <td>2</td>\n",
       "      <td>35.67</td>\n",
       "    </tr>\n",
       "    <tr>\n",
       "      <th>2</th>\n",
       "      <td>1</td>\n",
       "      <td>Medium</td>\n",
       "      <td>1</td>\n",
       "      <td>4</td>\n",
       "      <td>3</td>\n",
       "      <td>3</td>\n",
       "      <td>29.03</td>\n",
       "    </tr>\n",
       "    <tr>\n",
       "      <th>3</th>\n",
       "      <td>1</td>\n",
       "      <td>Medium</td>\n",
       "      <td>1</td>\n",
       "      <td>4</td>\n",
       "      <td>3</td>\n",
       "      <td>4</td>\n",
       "      <td>39.25</td>\n",
       "    </tr>\n",
       "    <tr>\n",
       "      <th>4</th>\n",
       "      <td>1</td>\n",
       "      <td>Medium</td>\n",
       "      <td>2</td>\n",
       "      <td>5</td>\n",
       "      <td>2</td>\n",
       "      <td>1</td>\n",
       "      <td>27.81</td>\n",
       "    </tr>\n",
       "  </tbody>\n",
       "</table>\n",
       "</div>"
      ],
      "text/plain": [
       "   MarketID MarketSize  LocationID  AgeOfStore  Promotion  week  \\\n",
       "0         1     Medium           1           4          3     1   \n",
       "1         1     Medium           1           4          3     2   \n",
       "2         1     Medium           1           4          3     3   \n",
       "3         1     Medium           1           4          3     4   \n",
       "4         1     Medium           2           5          2     1   \n",
       "\n",
       "   SalesInThousands  \n",
       "0             33.73  \n",
       "1             35.67  \n",
       "2             29.03  \n",
       "3             39.25  \n",
       "4             27.81  "
      ]
     },
     "execution_count": 2,
     "metadata": {},
     "output_type": "execute_result"
    }
   ],
   "source": [
    "df = pd.read_csv('WA_Fn-UseC_-Marketing-Campaign-Eff-UseC_-FastF.csv')\n",
    "\n",
    "print(df.shape)\n",
    "print('\\n')\n",
    "df.head(5)"
   ]
  },
  {
   "cell_type": "markdown",
   "metadata": {},
   "source": [
    "#### Feature Details\n",
    "\n",
    "The data includes 548 promotional records:\n",
    "- MarketId: unique market identifier\n",
    "- AgeOfStores: age of store\n",
    "- LocationID: unique store identifier\n",
    "- Promotion: promotion identifier\n",
    "- Sales in Thousands: sales per store, promotion and week\n",
    "- Market size: small, medium & large market ID\n",
    "- Week: week 1-4 of the promotion"
   ]
  },
  {
   "cell_type": "markdown",
   "metadata": {},
   "source": [
    "# Scrubbing | Data Cleaning\n",
    "### Null Values"
   ]
  },
  {
   "cell_type": "code",
   "execution_count": 3,
   "metadata": {
    "ExecuteTime": {
     "end_time": "2021-02-05T17:20:11.665496Z",
     "start_time": "2021-02-05T17:20:11.663380Z"
    }
   },
   "outputs": [],
   "source": [
    "# df.dropna(inplace=True)"
   ]
  },
  {
   "cell_type": "code",
   "execution_count": 4,
   "metadata": {
    "ExecuteTime": {
     "end_time": "2021-02-05T17:20:11.675616Z",
     "start_time": "2021-02-05T17:20:11.667462Z"
    }
   },
   "outputs": [
    {
     "name": "stdout",
     "output_type": "stream",
     "text": [
      "Missing values :   0\n",
      "\n",
      "Unique values :   MarketID             10\n",
      "MarketSize            3\n",
      "LocationID          137\n",
      "AgeOfStore           25\n",
      "Promotion             3\n",
      "week                  4\n",
      "SalesInThousands    517\n",
      "dtype: int64\n"
     ]
    }
   ],
   "source": [
    "print ('Missing values :  ', df.isnull().sum().values.sum())\n",
    "print ('\\nUnique values :  ', df.nunique())"
   ]
  },
  {
   "cell_type": "markdown",
   "metadata": {},
   "source": [
    "<div class=\"alert alert-block alert-info\">\n",
    "\n",
    "The dataset includes 7 features representing 3 promotions inclusive of 137 stores over a 4 week period.\n",
    "</div>"
   ]
  },
  {
   "cell_type": "markdown",
   "metadata": {},
   "source": [
    "# Exploratory Data Analysis\n",
    "### Data Distribution"
   ]
  },
  {
   "cell_type": "code",
   "execution_count": 5,
   "metadata": {
    "ExecuteTime": {
     "end_time": "2021-02-05T17:20:11.700664Z",
     "start_time": "2021-02-05T17:20:11.677143Z"
    }
   },
   "outputs": [
    {
     "data": {
      "text/html": [
       "<div>\n",
       "<style scoped>\n",
       "    .dataframe tbody tr th:only-of-type {\n",
       "        vertical-align: middle;\n",
       "    }\n",
       "\n",
       "    .dataframe tbody tr th {\n",
       "        vertical-align: top;\n",
       "    }\n",
       "\n",
       "    .dataframe thead th {\n",
       "        text-align: right;\n",
       "    }\n",
       "</style>\n",
       "<table border=\"1\" class=\"dataframe\">\n",
       "  <thead>\n",
       "    <tr style=\"text-align: right;\">\n",
       "      <th></th>\n",
       "      <th>MarketID</th>\n",
       "      <th>LocationID</th>\n",
       "      <th>AgeOfStore</th>\n",
       "      <th>Promotion</th>\n",
       "      <th>week</th>\n",
       "      <th>SalesInThousands</th>\n",
       "    </tr>\n",
       "  </thead>\n",
       "  <tbody>\n",
       "    <tr>\n",
       "      <th>count</th>\n",
       "      <td>548.000000</td>\n",
       "      <td>548.000000</td>\n",
       "      <td>548.000000</td>\n",
       "      <td>548.000000</td>\n",
       "      <td>548.000000</td>\n",
       "      <td>548.000000</td>\n",
       "    </tr>\n",
       "    <tr>\n",
       "      <th>mean</th>\n",
       "      <td>5.715328</td>\n",
       "      <td>479.656934</td>\n",
       "      <td>8.503650</td>\n",
       "      <td>2.029197</td>\n",
       "      <td>2.500000</td>\n",
       "      <td>53.466204</td>\n",
       "    </tr>\n",
       "    <tr>\n",
       "      <th>std</th>\n",
       "      <td>2.877001</td>\n",
       "      <td>287.973679</td>\n",
       "      <td>6.638345</td>\n",
       "      <td>0.810729</td>\n",
       "      <td>1.119055</td>\n",
       "      <td>16.755216</td>\n",
       "    </tr>\n",
       "    <tr>\n",
       "      <th>min</th>\n",
       "      <td>1.000000</td>\n",
       "      <td>1.000000</td>\n",
       "      <td>1.000000</td>\n",
       "      <td>1.000000</td>\n",
       "      <td>1.000000</td>\n",
       "      <td>17.340000</td>\n",
       "    </tr>\n",
       "    <tr>\n",
       "      <th>25%</th>\n",
       "      <td>3.000000</td>\n",
       "      <td>216.000000</td>\n",
       "      <td>4.000000</td>\n",
       "      <td>1.000000</td>\n",
       "      <td>1.750000</td>\n",
       "      <td>42.545000</td>\n",
       "    </tr>\n",
       "    <tr>\n",
       "      <th>50%</th>\n",
       "      <td>6.000000</td>\n",
       "      <td>504.000000</td>\n",
       "      <td>7.000000</td>\n",
       "      <td>2.000000</td>\n",
       "      <td>2.500000</td>\n",
       "      <td>50.200000</td>\n",
       "    </tr>\n",
       "    <tr>\n",
       "      <th>75%</th>\n",
       "      <td>8.000000</td>\n",
       "      <td>708.000000</td>\n",
       "      <td>12.000000</td>\n",
       "      <td>3.000000</td>\n",
       "      <td>3.250000</td>\n",
       "      <td>60.477500</td>\n",
       "    </tr>\n",
       "    <tr>\n",
       "      <th>max</th>\n",
       "      <td>10.000000</td>\n",
       "      <td>920.000000</td>\n",
       "      <td>28.000000</td>\n",
       "      <td>3.000000</td>\n",
       "      <td>4.000000</td>\n",
       "      <td>99.650000</td>\n",
       "    </tr>\n",
       "  </tbody>\n",
       "</table>\n",
       "</div>"
      ],
      "text/plain": [
       "         MarketID  LocationID  AgeOfStore   Promotion        week  \\\n",
       "count  548.000000  548.000000  548.000000  548.000000  548.000000   \n",
       "mean     5.715328  479.656934    8.503650    2.029197    2.500000   \n",
       "std      2.877001  287.973679    6.638345    0.810729    1.119055   \n",
       "min      1.000000    1.000000    1.000000    1.000000    1.000000   \n",
       "25%      3.000000  216.000000    4.000000    1.000000    1.750000   \n",
       "50%      6.000000  504.000000    7.000000    2.000000    2.500000   \n",
       "75%      8.000000  708.000000   12.000000    3.000000    3.250000   \n",
       "max     10.000000  920.000000   28.000000    3.000000    4.000000   \n",
       "\n",
       "       SalesInThousands  \n",
       "count        548.000000  \n",
       "mean          53.466204  \n",
       "std           16.755216  \n",
       "min           17.340000  \n",
       "25%           42.545000  \n",
       "50%           50.200000  \n",
       "75%           60.477500  \n",
       "max           99.650000  "
      ]
     },
     "execution_count": 5,
     "metadata": {},
     "output_type": "execute_result"
    }
   ],
   "source": [
    "df.describe()"
   ]
  },
  {
   "cell_type": "markdown",
   "metadata": {},
   "source": [
    "<div class=\"alert alert-block alert-info\">\n",
    "\n",
    "A few notes:\n",
    "* Store age is between 1-28 years old with the average being 8.5 years old\n",
    "* The mean amount of sales is 53,000 (during promotion)\n",
    "\n",
    "</div>"
   ]
  },
  {
   "cell_type": "markdown",
   "metadata": {},
   "source": [
    "#### Sales by Promotion"
   ]
  },
  {
   "cell_type": "code",
   "execution_count": 90,
   "metadata": {
    "ExecuteTime": {
     "end_time": "2021-02-05T19:55:30.651825Z",
     "start_time": "2021-02-05T19:55:30.031359Z"
    }
   },
   "outputs": [
    {
     "data": {
      "image/png": "[encoded data removed]",
      "text/plain": [
       "<Figure size 1620x600 with 3 Axes>"
      ]
     },
     "metadata": {},
     "output_type": "display_data"
    }
   ],
   "source": [
    "# sales by promotion\n",
    "g = sns.FacetGrid(df,col='Promotion',height=5,aspect=.9)\n",
    "g.map(plt.hist,'SalesInThousands',bins=35)\n",
    "g.axes[0,0].set_xlabel('Sales (In Thousands)')\n",
    "g.axes[0,1].set_xlabel('Sales (In Thousands)')\n",
    "g.axes[0,2].set_xlabel('Sales (In Thousands)')\n",
    "# g.savefig('salesxpromo.jpg',dpi=200,bbox_inches='tight')\n",
    "plt.show();"
   ]
  },
  {
   "cell_type": "markdown",
   "metadata": {},
   "source": [
    "<div class=\"alert alert-block alert-info\">\n",
    "\n",
    "At first glance, it seems like promotion number 3 is the front runner. Lets continue with our analysis. \n",
    "\n",
    "</div>"
   ]
  },
  {
   "cell_type": "markdown",
   "metadata": {},
   "source": [
    "#### Promotions by Market Size"
   ]
  },
  {
   "cell_type": "code",
   "execution_count": 97,
   "metadata": {
    "ExecuteTime": {
     "end_time": "2021-02-05T19:58:01.920158Z",
     "start_time": "2021-02-05T19:58:01.692795Z"
    }
   },
   "outputs": [
    {
     "data": {
      "image/png": "[encoded data removed]",
      "text/plain": [
       "<Figure size 840x600 with 1 Axes>"
      ]
     },
     "metadata": {},
     "output_type": "display_data"
    }
   ],
   "source": [
    "plt.rcParams['figure.dpi'] = 120\n",
    "\n",
    "ax = df.groupby(['Promotion', 'MarketSize']).count()['MarketID'].unstack('MarketSize').plot(kind='bar',figsize=(7,5))\n",
    "ax.set(xlabel='Promotion', ylabel='Count')\n",
    "ax.set_title('Promotions Across Different Market Sizes')\n",
    "ax.legend(loc='center right')\n",
    "for a in ax.patches:\n",
    "    ax.text(a.get_x()+0.025, a.get_height()+1,str(a.get_height()))\n",
    "for a in ax.get_xticklabels():\n",
    "    a.set_rotation(0)\n",
    "    a.set_size(12)\n",
    "\n",
    "# plt.savefig('promoxmarket.jpg')"
   ]
  },
  {
   "cell_type": "markdown",
   "metadata": {},
   "source": [
    "#### Age of Stores"
   ]
  },
  {
   "cell_type": "code",
   "execution_count": 106,
   "metadata": {
    "ExecuteTime": {
     "end_time": "2021-02-05T20:00:41.390715Z",
     "start_time": "2021-02-05T20:00:40.902022Z"
    }
   },
   "outputs": [
    {
     "data": {
      "image/png": "[encoded data removed]",
      "text/plain": [
       "<Figure size 840x600 with 1 Axes>"
      ]
     },
     "metadata": {},
     "output_type": "display_data"
    }
   ],
   "source": [
    "plt.rcParams['figure.dpi'] = 120\n",
    "\n",
    "ax = df.groupby('AgeOfStore').count()['MarketID'].plot(kind='bar',figsize=(7,5))\n",
    "ax.set(xlabel='Age', ylabel='Count')\n",
    "ax.set_title('Distribution of Store Ages')\n",
    "for a in ax.patches:\n",
    "    ax.text(a.get_x()+0.01, a.get_height()+0.5,str(a.get_height()))\n",
    "for a in ax.get_xticklabels():\n",
    "    a.set_rotation(0)\n",
    "    a.set_size(10)\n",
    "\n",
    "# plt.savefig('storeages.jpg')"
   ]
  },
  {
   "cell_type": "code",
   "execution_count": 25,
   "metadata": {
    "ExecuteTime": {
     "end_time": "2021-02-05T17:36:50.693757Z",
     "start_time": "2021-02-05T17:36:50.641351Z"
    }
   },
   "outputs": [
    {
     "data": {
      "text/html": [
       "<div>\n",
       "<style scoped>\n",
       "    .dataframe tbody tr th:only-of-type {\n",
       "        vertical-align: middle;\n",
       "    }\n",
       "\n",
       "    .dataframe tbody tr th {\n",
       "        vertical-align: top;\n",
       "    }\n",
       "\n",
       "    .dataframe thead th {\n",
       "        text-align: right;\n",
       "    }\n",
       "</style>\n",
       "<table border=\"1\" class=\"dataframe\">\n",
       "  <thead>\n",
       "    <tr style=\"text-align: right;\">\n",
       "      <th></th>\n",
       "      <th>count</th>\n",
       "      <th>mean</th>\n",
       "      <th>std</th>\n",
       "      <th>min</th>\n",
       "      <th>25%</th>\n",
       "      <th>50%</th>\n",
       "      <th>75%</th>\n",
       "      <th>max</th>\n",
       "    </tr>\n",
       "    <tr>\n",
       "      <th>Promotion</th>\n",
       "      <th></th>\n",
       "      <th></th>\n",
       "      <th></th>\n",
       "      <th></th>\n",
       "      <th></th>\n",
       "      <th></th>\n",
       "      <th></th>\n",
       "      <th></th>\n",
       "    </tr>\n",
       "  </thead>\n",
       "  <tbody>\n",
       "    <tr>\n",
       "      <th>1</th>\n",
       "      <td>172.0</td>\n",
       "      <td>8.279070</td>\n",
       "      <td>6.636160</td>\n",
       "      <td>1.0</td>\n",
       "      <td>3.0</td>\n",
       "      <td>6.0</td>\n",
       "      <td>12.0</td>\n",
       "      <td>27.0</td>\n",
       "    </tr>\n",
       "    <tr>\n",
       "      <th>2</th>\n",
       "      <td>188.0</td>\n",
       "      <td>7.978723</td>\n",
       "      <td>6.597648</td>\n",
       "      <td>1.0</td>\n",
       "      <td>3.0</td>\n",
       "      <td>7.0</td>\n",
       "      <td>10.0</td>\n",
       "      <td>28.0</td>\n",
       "    </tr>\n",
       "    <tr>\n",
       "      <th>3</th>\n",
       "      <td>188.0</td>\n",
       "      <td>9.234043</td>\n",
       "      <td>6.651646</td>\n",
       "      <td>1.0</td>\n",
       "      <td>5.0</td>\n",
       "      <td>8.0</td>\n",
       "      <td>12.0</td>\n",
       "      <td>24.0</td>\n",
       "    </tr>\n",
       "  </tbody>\n",
       "</table>\n",
       "</div>"
      ],
      "text/plain": [
       "           count      mean       std  min  25%  50%   75%   max\n",
       "Promotion                                                      \n",
       "1          172.0  8.279070  6.636160  1.0  3.0  6.0  12.0  27.0\n",
       "2          188.0  7.978723  6.597648  1.0  3.0  7.0  10.0  28.0\n",
       "3          188.0  9.234043  6.651646  1.0  5.0  8.0  12.0  24.0"
      ]
     },
     "execution_count": 25,
     "metadata": {},
     "output_type": "execute_result"
    }
   ],
   "source": [
    "# checking age profiles\n",
    "df.groupby('Promotion').describe()['AgeOfStore']"
   ]
  },
  {
   "cell_type": "markdown",
   "metadata": {},
   "source": [
    "<div class=\"alert alert-block alert-info\">\n",
    "\n",
    "The age profiles of stores across each promotions are very similar. In addition, the promotions per market (small, medium, large) are evenly distributed as well. \n",
    "\n",
    "</div>"
   ]
  },
  {
   "cell_type": "markdown",
   "metadata": {},
   "source": [
    "# A/B Testing"
   ]
  },
  {
   "cell_type": "code",
   "execution_count": 46,
   "metadata": {
    "ExecuteTime": {
     "end_time": "2021-02-05T18:19:45.266234Z",
     "start_time": "2021-02-05T18:19:45.259013Z"
    }
   },
   "outputs": [
    {
     "data": {
      "text/plain": [
       "Promotion\n",
       "1     9993.03\n",
       "2     8897.93\n",
       "3    10408.52\n",
       "Name: SalesInThousands, dtype: float64"
      ]
     },
     "execution_count": 46,
     "metadata": {},
     "output_type": "execute_result"
    }
   ],
   "source": [
    "# sales by promotion\n",
    "df.groupby('Promotion').sum()['SalesInThousands']"
   ]
  },
  {
   "cell_type": "code",
   "execution_count": 41,
   "metadata": {
    "ExecuteTime": {
     "end_time": "2021-02-05T17:56:38.747811Z",
     "start_time": "2021-02-05T17:56:38.734755Z"
    }
   },
   "outputs": [
    {
     "name": "stdout",
     "output_type": "stream",
     "text": [
      "Mean | Sales Per Promotion Promotion\n",
      "1    58.099012\n",
      "2    47.329415\n",
      "3    55.364468\n",
      "Name: SalesInThousands, dtype: float64\n",
      "\n",
      "Standard Deviation | Sales Per Promotion Promotion\n",
      "1    16.553782\n",
      "2    15.108955\n",
      "3    16.766231\n",
      "Name: SalesInThousands, dtype: float64\n",
      "\n",
      "Total Count Per Promotion Promotion\n",
      "1    172\n",
      "2    188\n",
      "3    188\n",
      "Name: SalesInThousands, dtype: int64\n"
     ]
    }
   ],
   "source": [
    "# mean values per promotion\n",
    "print('Mean | Sales Per Promotion', df.groupby('Promotion').mean()['SalesInThousands'])\n",
    "# standard deviation values per promotion\n",
    "print('\\nStandard Deviation | Sales Per Promotion', df.groupby('Promotion').std()['SalesInThousands'])\n",
    "# standard deviation values per promotion\n",
    "print('\\nTotal Count Per Promotion', df.groupby('Promotion').count()['SalesInThousands'])"
   ]
  },
  {
   "cell_type": "markdown",
   "metadata": {},
   "source": [
    "<div class=\"alert alert-block alert-info\">\n",
    "\n",
    "Our analysis will test T-Values and P-Values between promotions in order to assess performance. While the mean values have been compared, our T-Values will determine if there is a significant difference between the promotions with respect to variance and outliers. Our P-Value test will assess whether difference in promotional performance is significant (or not significant). \n",
    "\n",
    "</div>"
   ]
  },
  {
   "cell_type": "markdown",
   "metadata": {},
   "source": [
    "## Promo 1 vs 2"
   ]
  },
  {
   "cell_type": "code",
   "execution_count": 43,
   "metadata": {
    "ExecuteTime": {
     "end_time": "2021-02-05T18:12:46.942388Z",
     "start_time": "2021-02-05T18:12:46.936449Z"
    }
   },
   "outputs": [
    {
     "name": "stdout",
     "output_type": "stream",
     "text": [
      "T-value: 6.42752867090748\n",
      "P-value: 4.2903687179871785e-10\n"
     ]
    }
   ],
   "source": [
    "# calculate t & p / scipy stats\n",
    "t, p = stats.ttest_ind(df.loc[df['Promotion'] == 1, 'SalesInThousands'].values, # isolate values as numpy array\n",
    "                       df.loc[df['Promotion'] == 2, 'SalesInThousands'].values, \n",
    "                       equal_var=False)\n",
    "print('T-value: ' + str(t))\n",
    "print('P-value: ' + str(p))"
   ]
  },
  {
   "cell_type": "markdown",
   "metadata": {},
   "source": [
    "<div class=\"alert alert-block alert-info\">\n",
    "\n",
    "The sales counts and mean values for promotion 1 are larger than those in group 2. \n",
    "\n",
    "The T-Value of 6.23 illustrates a degree of difference (variation) between the two promotions. The P-Value of 0.0000000004 (when compared to a threshold of 0.05) means difference between the promotions is statistically significant. \n",
    "\n",
    "Promotion 1 out performs promotion 2 in a significant way. \n",
    "</div>"
   ]
  },
  {
   "cell_type": "markdown",
   "metadata": {},
   "source": [
    "## Promo 1 vs 3"
   ]
  },
  {
   "cell_type": "code",
   "execution_count": 47,
   "metadata": {
    "ExecuteTime": {
     "end_time": "2021-02-05T18:28:14.217569Z",
     "start_time": "2021-02-05T18:28:14.211692Z"
    }
   },
   "outputs": [
    {
     "name": "stdout",
     "output_type": "stream",
     "text": [
      "T-value: 1.5560224307758634\n",
      "P-value: 0.12059147742229478\n"
     ]
    }
   ],
   "source": [
    "# calculate t & p / scipy stats\n",
    "t, p = stats.ttest_ind(df.loc[df['Promotion'] == 1, 'SalesInThousands'].values, # isolate values as numpy array\n",
    "                       df.loc[df['Promotion'] == 3, 'SalesInThousands'].values, \n",
    "                       equal_var=False)\n",
    "print('T-value: ' + str(t))\n",
    "print('P-value: ' + str(p))"
   ]
  },
  {
   "cell_type": "markdown",
   "metadata": {},
   "source": [
    "<div class=\"alert alert-block alert-info\">\n",
    "\n",
    "Promotion 1 and 3 have a very similar mean, standard deviation and total sales per promotion (difference is a few hundred dollars).\n",
    "\n",
    "The T-Value and P-Value illustrate no real significance between the two groups. While promotion 3 ended up with more sales - this may be explained by the additional 16 promotional cites counted under promo 3.\n",
    "\n",
    "Failed to reject the null hypothesis. There is no statistical difference between promo 1 and promo 3.\n",
    "</div>"
   ]
  },
  {
   "cell_type": "markdown",
   "metadata": {},
   "source": [
    "# Interpreting Results | Recommendations\n",
    "\n",
    "A/B test results showed promotion 1 outperformed promotion 2 in a significant manner. A/B test results did not show a significant difference between promotions 1 and 3. The mean and standard deviation values were very similar and while promotion 3 lead to more sales, the selection of promotions per market per location were done at random. There were 172 occurrences of promotion 1 and 188 172 occurrences of promotion 3. The difference in sales performance is more than likely due to random chance. \n",
    "\n",
    "### Limitations\n",
    "The analysis was completed for illustrative purposes only. As mentioned at the top of our notebook - businesses vary rarely make sales data available to the public and as such this project was completed using data from a Udemy course. \n",
    "\n",
    "The main challenge to this project is understanding how similar the provided dataset is to something that will be seen in the workplace. This may be effected by year (when compared to today's data), region and many other industry factors. \n",
    "\n",
    "## Future Work\n",
    "\n",
    "Future work should include a larger dataset with additional context. While fabricated, an ideal dataset would mimic current sales trends, in a specific market with multiple products and promotions to test for effects of markets or locations themselves on the the promotion. Understanding these effects will lead to a more functional determination of 'best' promotion for this business within their industry. \n",
    "\n",
    "A blog post on this analysis is available on [Medium.](https://miguelangelsantana.medium.com/marketing-campaign-assessment-b7f5785ffb4c)\n",
    "\n",
    "#### Further Information\n",
    "For any additional questions, please reach out via email at santana2.miguel@gmail.com, on [LinkedIn](https://www.linkedin.com/in/miguel-angel-santana-ii-mba-51467276/) or on [Twitter.](https://twitter.com/msantana_ds)\n",
    "\n",
    "#### Sources\n",
    "\n",
    "Additional analysis, notes and file sources can be found on Udemy's website. \n",
    "\n",
    "* Course Name: Data Science & Deep Learning for Business by Rajeev Ratan"
   ]
  }
 ],
 "metadata": {
  "kernelspec": {
   "display_name": "Python [conda env:learn-env] *",
   "language": "python",
   "name": "conda-env-learn-env-py"
  },
  "language_info": {
   "codemirror_mode": {
    "name": "ipython",
    "version": 3
   },
   "file_extension": ".py",
   "mimetype": "text/x-python",
   "name": "python",
   "nbconvert_exporter": "python",
   "pygments_lexer": "ipython3",
   "version": "3.6.9"
  },
  "toc": {
   "base_numbering": 1,
   "nav_menu": {},
   "number_sections": true,
   "sideBar": true,
   "skip_h1_title": false,
   "title_cell": "Table of Contents",
   "title_sidebar": "Contents",
   "toc_cell": false,
   "toc_position": {
    "height": "calc(100% - 180px)",
    "left": "10px",
    "top": "150px",
    "width": "165px"
   },
   "toc_section_display": true,
   "toc_window_display": true
  }
 },
 "nbformat": 4,
 "nbformat_minor": 2
}
